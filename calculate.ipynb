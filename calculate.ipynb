{
 "cells": [
  {
   "cell_type": "markdown",
   "source": [
    "# DLMDSPWP01 - Calculation"
   ],
   "metadata": {
    "collapsed": false,
    "pycharm": {
     "name": "#%% md\n"
    }
   }
  },
  {
   "cell_type": "markdown",
   "source": [
    "In this Jupyter Notebook, we implement a Python program to handle and analyze training datasets stored in CSV format. The primary objective is to construct an SQLite database using sqlalchemy, where the training data is organized into a five-column table.\n",
    "\n",
    "Additionally, we load fifty ideal functions from a separate CSV file into another table within the database. This table features 51 columns, with the first column representing x-values.\n",
    "\n",
    "After successfully populating the database with training data and ideal functions,the program proceeds to process test data (B) from yet another CSV file. Each line of test data is loaded and, if it meets specified criteria, matched with one of four chosen functions from the previous subsection (i). The results are then stored in a dedicated four-column table in the SQLite database.\n",
    "\n",
    "This notebook only finds the best ideal functions and stores the points that fulfill the criteria into the SQL Database. For an implementation of Pandas and Bokeh, please take a look at [visualize.ipynb](./visualize.ipynb)"
   ],
   "metadata": {
    "collapsed": false
   }
  },
  {
   "cell_type": "markdown",
   "source": [
    "## Pre-Requesites\n",
    "The next cell loads all of the requirements needed for this notebook. For a setup guide (for MacOSX) please consult the [README](./README.md)"
   ],
   "metadata": {
    "collapsed": false
   }
  },
  {
   "cell_type": "code",
   "execution_count": 13,
   "outputs": [],
   "source": [
    "import os\n",
    "\n",
    "from sqlalchemy import Column, inspect\n",
    "\n",
    "from entities.point import Point\n",
    "from regressor.regressor import Regressor\n",
    "from services.sql_database import SQLDatabase\n",
    "from sqlalchemy import Numeric\n"
   ],
   "metadata": {
    "collapsed": false,
    "pycharm": {
     "name": "#%%\n"
    },
    "ExecuteTime": {
     "end_time": "2024-02-03T15:59:22.693394Z",
     "start_time": "2024-02-03T15:59:22.679620Z"
    }
   }
  },
  {
   "cell_type": "markdown",
   "source": [
    "## Loading the Data into the database\n",
    "The next view cells, create a SQLite database and loads the train dataset and the ideal functions into two different tables. The data is loaded from the local file system."
   ],
   "metadata": {
    "collapsed": false
   }
  },
  {
   "cell_type": "code",
   "execution_count": 14,
   "outputs": [],
   "source": [
    "sql_database = SQLDatabase()"
   ],
   "metadata": {
    "collapsed": false,
    "pycharm": {
     "name": "#%%\n"
    },
    "ExecuteTime": {
     "end_time": "2024-02-03T15:59:24.388451Z",
     "start_time": "2024-02-03T15:59:24.363061Z"
    }
   }
  },
  {
   "cell_type": "code",
   "execution_count": 15,
   "outputs": [],
   "source": [
    "# Load the training data\n",
    "columns = [Column(column_name, type_=Numeric) for column_name in [\"X\"] + [\"Y\" + str(i) for i in range(1, 5)]]\n",
    "sql_database.create_table(\"train\", columns=columns)\n",
    "sql_database.truncate_table(\"train\")\n",
    "with open(os.path.join(\"data\", \"train\", \"train.csv\"), \"r\") as file:\n",
    "    file.readline()  # Skip first line\n",
    "    for i, row in enumerate(file.readlines()):\n",
    "        sql_database.insert_into_table(\"train\", values=row.split(\",\"), column_names=columns)"
   ],
   "metadata": {
    "collapsed": false,
    "pycharm": {
     "name": "#%%\n"
    },
    "ExecuteTime": {
     "end_time": "2024-02-03T15:59:26.031305Z",
     "start_time": "2024-02-03T15:59:25.023690Z"
    }
   }
  },
  {
   "cell_type": "code",
   "execution_count": 16,
   "outputs": [],
   "source": [
    "# Test the training data is loaded correctly\n",
    "assert \"train\" in inspect(sql_database.engine).get_table_names()\n",
    "with sql_database.engine.connect() as connection:\n",
    "    query_result = connection.execute(f\"SELECT * FROM 'train'\").fetchall()\n",
    "    with open(os.path.join(\"data\", \"train\", \"train.csv\"), \"r\") as file:\n",
    "        table_values = [row.strip(\"\\n\").split(\",\") for i, row in enumerate(file.readlines()) if i]\n",
    "        assert list(map(list, query_result)) == [list(map(float, row)) for row in table_values]"
   ],
   "metadata": {
    "collapsed": false,
    "pycharm": {
     "name": "#%%\n"
    },
    "ExecuteTime": {
     "end_time": "2024-02-03T15:59:26.031911Z",
     "start_time": "2024-02-03T15:59:26.014301Z"
    }
   }
  },
  {
   "cell_type": "code",
   "execution_count": 17,
   "outputs": [],
   "source": [
    "# Load the ideal data\n",
    "columns = [Column(column_name, type_=Numeric) for column_name in [\"X\"] + [\"Y\" + str(i) for i in range(1, 51)]]\n",
    "sql_database.create_table(\"ideal\", columns=columns)\n",
    "sql_database.truncate_table(\"ideal\")\n",
    "with open(os.path.join(\"data\", \"ideal\", \"ideal.csv\"), \"r\") as file:\n",
    "    file.readline()  # Skip first line\n",
    "    for i, row in enumerate(file.readlines()):\n",
    "        sql_database.insert_into_table(\"ideal\", values=row.split(\",\"), column_names=columns)"
   ],
   "metadata": {
    "collapsed": false,
    "pycharm": {
     "name": "#%%\n"
    },
    "ExecuteTime": {
     "end_time": "2024-02-03T15:59:40.667741Z",
     "start_time": "2024-02-03T15:59:26.661169Z"
    }
   }
  },
  {
   "cell_type": "code",
   "execution_count": 18,
   "outputs": [],
   "source": [
    "# Test the ideal data is loaded correctly\n",
    "assert \"ideal\" in inspect(sql_database.engine).get_table_names()\n",
    "with sql_database.engine.connect() as connection:\n",
    "    query_result = connection.execute(f\"SELECT * FROM 'ideal'\").fetchall()\n",
    "    with open(os.path.join(\"data\", \"ideal\", \"ideal.csv\"), \"r\") as file:\n",
    "        table_values = [row.strip(\"\\n\").split(\",\") for i, row in enumerate(file.readlines()) if i]\n",
    "        assert list(map(list, query_result)) == [list(map(float, row)) for row in table_values]"
   ],
   "metadata": {
    "collapsed": false,
    "pycharm": {
     "name": "#%%\n"
    },
    "ExecuteTime": {
     "end_time": "2024-02-03T15:59:40.668454Z",
     "start_time": "2024-02-03T15:59:40.585614Z"
    }
   }
  },
  {
   "cell_type": "markdown",
   "source": [
    "## Finding the ideal functions"
   ],
   "metadata": {
    "collapsed": false
   }
  },
  {
   "cell_type": "code",
   "execution_count": 19,
   "outputs": [],
   "source": [
    "regressor = Regressor()\n",
    "best_ideal_functions = []\n",
    "for dataset_id in range(1, 5):\n",
    "    with sql_database.engine.connect() as connection:\n",
    "        train_sql_query = f\"SELECT x, y{dataset_id} FROM 'train'\"\n",
    "        train_result = connection.execute(train_sql_query).fetchall()\n",
    "        train_points = [Point(item[0], item[1]) for item in train_result]\n",
    "        \n",
    "        ideal_sql_query = f\"SELECT * FROM 'ideal'\"\n",
    "        ideal_result = connection.execute(ideal_sql_query).fetchall()\n",
    "        ideal_points = []\n",
    "        for item in ideal_result:\n",
    "            for i in range(len(item)-1):\n",
    "                x = item[0]\n",
    "                y = item[1 + i]\n",
    "                if 1 + i > len(ideal_points):\n",
    "                    ideal_points.append([])\n",
    "                ideal_points[i].append(Point(x, y))\n",
    "\n",
    "        best_ideal_function, max_sum, max_deviation = regressor.find_ideal_function(train_points, ideal_points)\n",
    "        best_ideal_functions.append((best_ideal_function, max_sum, max_deviation))"
   ],
   "metadata": {
    "collapsed": false,
    "pycharm": {
     "name": "#%%\n",
     "is_executing": true
    },
    "ExecuteTime": {
     "end_time": "2024-02-03T15:59:40.668543Z",
     "start_time": "2024-02-03T15:59:40.585826Z"
    }
   }
  },
  {
   "cell_type": "code",
   "execution_count": 20,
   "outputs": [
    {
     "data": {
      "text/plain": "[(8, 99.99999945140036, 0.25000010000000994),\n (14, 99.99999999000272, 0.250001000001001),\n (24, 99.99999963000016, 0.2500000600000036),\n (35, 99.99999998000058, 0.2500004000001602)]"
     },
     "execution_count": 20,
     "metadata": {},
     "output_type": "execute_result"
    }
   ],
   "source": [
    "best_ideal_functions = sorted(best_ideal_functions, key=lambda x: x[0])\n",
    "best_ideal_functions"
   ],
   "metadata": {
    "collapsed": false,
    "pycharm": {
     "name": "#%%\n"
    },
    "ExecuteTime": {
     "end_time": "2024-02-03T15:59:40.668799Z",
     "start_time": "2024-02-03T15:59:40.585875Z"
    }
   }
  },
  {
   "cell_type": "markdown",
   "source": [
    "## Testing the best ideal functions on the test dataset"
   ],
   "metadata": {
    "collapsed": false
   }
  },
  {
   "cell_type": "code",
   "execution_count": 21,
   "outputs": [],
   "source": [
    "best_ideal_function_lookup = {i: best_ideal_functions[i] for i in range(len(best_ideal_functions))}\n",
    "resulting_points = []\n",
    "with open(os.path.join(\"data\", \"test\", \"test.csv\"), \"r\", encoding=\"utf-8\") as test_file:\n",
    "    test_file.readline()\n",
    "    for line in test_file.readlines():\n",
    "        item = line.split(\",\")\n",
    "        x = float(item[0])\n",
    "        y = float(item[1].replace(\"\\\\n\", \"\"))\n",
    "        test_point = Point(x, y)\n",
    "        with sql_database.engine.connect() as connection:\n",
    "            sql_query = f\"SELECT x, y{best_ideal_functions[0][0]}, y{best_ideal_functions[1][0]}, y{best_ideal_functions[2][0]}, y{best_ideal_functions[3][0]} FROM 'ideal' WHERE x={test_point.x}\"\n",
    "            query_result = connection.execute(sql_query).fetchall()\n",
    "            assert len(query_result) == 1\n",
    "            ideal_points = [\n",
    "                Point(query_result[0][0], query_result[0][1]),\n",
    "                Point(query_result[0][0], query_result[0][2]),\n",
    "                Point(query_result[0][0], query_result[0][3]),\n",
    "                Point(query_result[0][0], query_result[0][4]),\n",
    "            ]\n",
    "            \n",
    "            differences = [\n",
    "                (i, test_point.calculate_least_square_difference(other_point)) for i, other_point in enumerate(ideal_points)\n",
    "            ]\n",
    "            sorted_differences = sorted(differences, key=lambda x: x[1])\n",
    "            ideal_function = best_ideal_function_lookup[sorted_differences[0][0]]\n",
    "            \n",
    "            # assert max_deviation_of_ideal_function <= sorted_differences[0][1] * 2 ** 0.5\n",
    "            if ideal_function[2] <= sorted_differences[0][1] * 2 ** 0.5:\n",
    "                resulting_points.append((test_point.x, test_point.y, ideal_function[1], ideal_function[0]))        \n",
    "            "
   ],
   "metadata": {
    "collapsed": false,
    "pycharm": {
     "name": "#%%\n"
    },
    "ExecuteTime": {
     "end_time": "2024-02-03T15:59:40.668842Z",
     "start_time": "2024-02-03T15:59:40.585910Z"
    }
   }
  },
  {
   "cell_type": "code",
   "outputs": [],
   "source": [
    "columns=[\n",
    "    Column(\"x\", type_=Numeric),\n",
    "    Column(\"y\", type_=Numeric),\n",
    "    Column(\"delta_y\", type_=Numeric),\n",
    "    Column(\"number\", type_=Numeric)\n",
    "]\n",
    "sql_database.create_table(\"test\", columns=columns)\n",
    "sql_database.truncate_table(\"test\")\n",
    "for result in resulting_points:\n",
    "    sql_database.insert_into_table(\"test\", values=list(map(str, result)), column_names=columns)"
   ],
   "metadata": {
    "collapsed": false,
    "ExecuteTime": {
     "end_time": "2024-02-03T15:59:40.668914Z",
     "start_time": "2024-02-03T15:59:40.585953Z"
    }
   },
   "execution_count": 22
  },
  {
   "cell_type": "code",
   "outputs": [
    {
     "name": "stdout",
     "output_type": "stream",
     "text": [
      "[(-16.5, -8983.502, 99.99999963000016, 24), (-9.4, -1.6981516, 99.99999998000058, 35), (-18.5, -12662.127, 99.99999963000016, 24), (1, -0.116328545, 99.99999999000272, 14), (16, -2.352354, 99.99999945140036, 8), (-12, -3454.9302, 99.99999963000016, 24), (0.8, -8.55054, 99.99999998000058, 35), (1.8, -2.80888, 99.99999999000272, 14), (3, -7.6883636, 99.99999998000058, 35), (-1.1, -1817.7866, 99.99999998000058, 35), (-12.7, -4095.8215, 99.99999963000016, 24), (-18.4, 0.19691324, 99.99999945140036, 8), (3, 53.231857, 99.99999963000016, 24), (8.6, -8.133972, 99.99999999000272, 14), (-17.2, 6.764539, 99.99999998000058, 35), (-2.6, -8.025898, 99.99999998000058, 35), (5.2, -15348.265, 99.99999999000272, 14), (-15.5, 6.221319, 99.99999998000058, 35), (-0.3, 0.7445385, 99.99999999000272, 14), (-1.2, 1.6692932, 99.99999999000272, 14), (18.8, 7.4445, 99.99999998000058, 35), (-3, -53.02533, 99.99999963000016, 24), (-14.9, 1.7203728, 99.99999945140036, 8), (-17.3, 6.355572, 99.99999998000058, 35), (-6, 7.1191707, 99.99999999000272, 14), (11.7, 4186.673, 99.99999963000016, 24), (-2.9, -5.9800506, 99.99999998000058, 35), (-1.6, -9.436773, 99.99999998000058, 35), (-19.9, 10.683759, 99.99999998000058, 35), (-9.5, 1.8594055, 99.99999945140036, 8), (-2.9, 4.0675654, 99.99999999000272, 14), (3.7, -8538.04, 99.99999998000058, 35), (-16.3, -363.62622, 99.99999945140036, 8), (-4.8, -1.5057198, 99.99999945140036, 8), (-7.3, 0.852802, 99.99999945140036, 8), (14.2, 5727.481, 99.99999963000016, 24), (1.1, 12297.136, 99.99999963000016, 24), (-11.7, -2.1622102, 99.99999945140036, 8), (9.2, 9440.3955, 99.99999963000016, 24), (12.6, 4001.57, 99.99999963000016, 24), (-5.5, 4.733961, 99.99999999000272, 14), (-2.8, 11145.282, 99.99999999000272, 14), (-15.6, 6.2238274, 99.99999998000058, 35), (3.8, -5.3464313, 99.99999998000058, 35), (-13, 2.543477, 99.99999998000058, 35), (-19, -0.58628273, 99.99999945140036, 8), (-19.1, 17.951696, 99.99999999000272, 14), (7.4, -1.7575392, 99.99999945140036, 8), (-13.7, -7890.074, 99.99999963000016, 24), (12.9, -11302.254, 99.99999999000272, 14), (19.7, -11061.087, 99.99999999000272, 14), (19.9, -19.326008, 99.99999999000272, 14), (-19.5, 10.121978, 99.99999998000058, 35), (19.4, 0.16454186, 99.99999945140036, 8), (-10.9, 11.846097, 99.99999999000272, 14), (15.5, -16.89122, 99.99999999000272, 14), (-14.3, 15.542954, 99.99999999000272, 14), (5.3, -11204.514, 99.99999999000272, 14), (15.6, -14.799077, 99.99999999000272, 14), (8.1, 1.7028772, 99.99999945140036, 8), (-10.6, -0.19046536, 99.99999945140036, 8), (11.5, 0.9297134, 99.99999998000058, 35), (-18.9, -9316.769, 99.99999963000016, 24), (-2.4, -1813.806, 99.99999963000016, 24), (-16.1, 5.570843, 99.99999998000058, 35), (-13.9, 5869.5938, 99.99999999000272, 14), (-18.6, 17.618437, 99.99999999000272, 14), (1.5, -9.715131, 99.99999998000058, 35), (-13, 12.445466, 99.99999999000272, 14), (-13, 12435.267, 99.99999999000272, 14), (2.4, -3.2319558, 99.99999999000272, 14), (17.7, 13276.154, 99.99999963000016, 24), (6.7, -2.836394, 99.99999998000058, 35), (-1.4, -5.9615407, 99.99999963000016, 24), (11.7, -12.7600975, 99.99999999000272, 14), (-12.8, 8499.642, 99.99999999000272, 14), (-12, 2.900163, 99.99999998000058, 35), (12.7, 3.6070058, 99.99999998000058, 35), (1.5, 2.0920331, 99.99999945140036, 8)]\n"
     ]
    }
   ],
   "source": [
    "with sql_database.engine.connect() as connection:\n",
    "    sql_query = \"SELECT * from test\"\n",
    "    query_result = connection.execute(sql_query).fetchall()\n",
    "    print(query_result)"
   ],
   "metadata": {
    "collapsed": false,
    "ExecuteTime": {
     "end_time": "2024-02-03T15:59:40.669202Z",
     "start_time": "2024-02-03T15:59:40.586048Z"
    }
   },
   "execution_count": 23
  },
  {
   "cell_type": "code",
   "outputs": [],
   "source": [],
   "metadata": {
    "collapsed": false
   }
  }
 ],
 "metadata": {
  "kernelspec": {
   "display_name": "Python 3",
   "language": "python",
   "name": "python3"
  },
  "language_info": {
   "codemirror_mode": {
    "name": "ipython",
    "version": 2
   },
   "file_extension": ".py",
   "mimetype": "text/x-python",
   "name": "python",
   "nbconvert_exporter": "python",
   "pygments_lexer": "ipython2",
   "version": "2.7.6"
  }
 },
 "nbformat": 4,
 "nbformat_minor": 0
}
